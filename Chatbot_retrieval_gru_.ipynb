{
  "nbformat": 4,
  "nbformat_minor": 0,
  "metadata": {
    "colab": {
      "name": "Chatbot_retrieval_gru_.ipynb",
      "provenance": [],
      "authorship_tag": "ABX9TyNmQfTJpWV7vVyGx4n5NQtV",
      "include_colab_link": true
    },
    "kernelspec": {
      "name": "python3",
      "display_name": "Python 3"
    },
    "language_info": {
      "name": "python"
    },
    "accelerator": "GPU"
  },
  "cells": [
    {
      "cell_type": "markdown",
      "metadata": {
        "id": "view-in-github",
        "colab_type": "text"
      },
      "source": [
        "<a href=\"https://colab.research.google.com/github/Nithinps021/Project_IISU/blob/main/Chatbot_retrieval_gru_.ipynb\" target=\"_parent\"><img src=\"https://colab.research.google.com/assets/colab-badge.svg\" alt=\"Open In Colab\"/></a>"
      ]
    },
    {
      "cell_type": "markdown",
      "source": [
        "# Retrieval based chatbot using GRU Algorithm"
      ],
      "metadata": {
        "id": "uGHkwgv4-7_v"
      }
    },
    {
      "cell_type": "code",
      "source": [
        "import numpy as np\n",
        "import random\n",
        "import json\n",
        "import matplotlib.pyplot as plt\n",
        "import tensorflow as tf\n",
        "from tensorflow import keras\n",
        "from tensorflow.keras.layers import Dense, Bidirectional, Dropout, Dense, Activation, Flatten, Embedding\n",
        "from tensorflow.keras.preprocessing.text import Tokenizer\n",
        "from tensorflow.keras.preprocessing import sequence\n",
        "from tensorflow.keras.preprocessing.sequence import pad_sequences\n",
        "from tensorflow.keras.models import Sequential,Model,load_model\n",
        "from tensorflow.keras.optimizers import SGD"
      ],
      "metadata": {
        "id": "6fq1bB2xtz9t"
      },
      "execution_count": null,
      "outputs": []
    },
    {
      "cell_type": "markdown",
      "source": [
        "#### **STEP 1**\n",
        "> Load the dataset and shuffle it. "
      ],
      "metadata": {
        "id": "Qy-OZW6wB2ia"
      }
    },
    {
      "cell_type": "code",
      "source": [
        "data_file = open('is_train.json').read()\n",
        "intents = json.loads(data_file)\n",
        "random.shuffle(intents)"
      ],
      "metadata": {
        "id": "gDTEkuaTvDxs"
      },
      "execution_count": null,
      "outputs": []
    },
    {
      "cell_type": "markdown",
      "source": [
        "#### **STEP 2** \n",
        "\n",
        "> Identify the classes present in the dataset set. Create two numpy array to store data and labels. The shape of the label array will be [ dataset_size X number_of_classes ] and default values will be zero. After creating these two arrays go through the dataset and append the text to the data array (*x_train*) and change the value of the column that correspond to the label as 1 (*y_train*).\n",
        "\n"
      ],
      "metadata": {
        "id": "Auo03jlmCSn9"
      }
    },
    {
      "cell_type": "code",
      "source": [
        "classes=[]\n",
        "for i in intents:\n",
        "  if i[1] not in classes:\n",
        "    classes.append(i[1])\n",
        "\n",
        "tot_data=len(intents)\n",
        "tot_classes=len(classes)\n",
        "x_train=np.array([])\n",
        "y_train=np.zeros(shape=(tot_data,tot_classes), dtype=np.uint8)\n",
        "for i in range(tot_data):\n",
        "  x_train=np.append(x_train,intents[i][0])\n",
        "  y_train[i][classes.index(intents[i][1])]=1"
      ],
      "metadata": {
        "id": "ps8EBl3bvPJh"
      },
      "execution_count": null,
      "outputs": []
    },
    {
      "cell_type": "markdown",
      "source": [
        "### **STEP 3**\n",
        "\n",
        "\n",
        "> Create a tokenizer object and pass our text data to the tokenizer. This allow to vectorize a text corpus, by turning each text into a vector where the coefficient for each token based on ***tfidf***\n"
      ],
      "metadata": {
        "id": "Ww6YJBPvFfgT"
      }
    },
    {
      "cell_type": "code",
      "source": [
        "text=x_train\n",
        "Tokenizer = Tokenizer(mode='tfidf')\n",
        "Tokenizer.fit_on_texts(text) \n",
        "Tokenizer_vocab_size = len(Tokenizer.word_index) + 1\n",
        "Tokenizer_vocab_size, x_train.shape, y_train.shape"
      ],
      "metadata": {
        "id": "9-LmDtlsySo3",
        "outputId": "0f7d3cef-4d8c-4cf1-db52-3a1928ababfd",
        "colab": {
          "base_uri": "https://localhost:8080/"
        }
      },
      "execution_count": null,
      "outputs": [
        {
          "output_type": "execute_result",
          "data": {
            "text/plain": [
              "(5230, (15000,), (15000, 150))"
            ]
          },
          "metadata": {},
          "execution_count": 5
        }
      ]
    },
    {
      "cell_type": "markdown",
      "source": [
        "### **STEP 4**\n",
        "\n",
        "\n",
        "> Splitting the dataset to training set and validation set\n",
        "\n",
        "\n",
        "\n",
        "\n",
        "\n"
      ],
      "metadata": {
        "id": "WXs7zUHDIMG-"
      }
    },
    {
      "cell_type": "code",
      "source": [
        "x_val=x_train[0:1500]\n",
        "y_val=y_train[0:1500]\n",
        "\n",
        "x_train=x_train[1500:]\n",
        "y_train=y_train[1500:]\n"
      ],
      "metadata": {
        "id": "-yXCVmW2zCg7"
      },
      "execution_count": null,
      "outputs": []
    },
    {
      "cell_type": "markdown",
      "source": [
        "### **STEP 5**\n",
        "\n",
        "\n",
        "> Converting the text sentence to vectors. After converting to vectors zeros are appended at the front to make dimension equal.\n",
        "\n",
        "\n",
        "\n",
        "\n"
      ],
      "metadata": {
        "id": "s1SWPRIFJQBG"
      }
    },
    {
      "cell_type": "code",
      "source": [
        "X_train_encoded_words = Tokenizer.texts_to_sequences(x_train)\n",
        "X_val_encoded_words = Tokenizer.texts_to_sequences(x_val)\n",
        "X_train_encoded_padded_words = sequence.pad_sequences(X_train_encoded_words, maxlen = 100)\n",
        "X_val_encoded_padded_words = sequence.pad_sequences(X_val_encoded_words, maxlen = 100)"
      ],
      "metadata": {
        "id": "fozE4GOFzmE4"
      },
      "execution_count": 25,
      "outputs": []
    },
    {
      "cell_type": "code",
      "source": [
        "X_train_encoded_padded_words"
      ],
      "metadata": {
        "id": "sG9wRe28zwsL",
        "outputId": "a9f060d5-0b82-4ab1-a035-5af92743ee38",
        "colab": {
          "base_uri": "https://localhost:8080/"
        }
      },
      "execution_count": 26,
      "outputs": [
        {
          "output_type": "execute_result",
          "data": {
            "text/plain": [
              "array([[   0,    0,    0, ...,   75,   40, 1978],\n",
              "       [   0,    0,    0, ...,    9,   15,  404],\n",
              "       [   0,    0,    0, ...,    0,  426,  879],\n",
              "       ...,\n",
              "       [   0,    0,    0, ...,   57,  950, 1609],\n",
              "       [   0,    0,    0, ..., 2035,   48, 1547],\n",
              "       [   0,    0,    0, ...,    2,   12,   34]], dtype=int32)"
            ]
          },
          "metadata": {},
          "execution_count": 26
        }
      ]
    },
    {
      "cell_type": "markdown",
      "source": [
        "### **STEP 6**\n",
        "\n",
        "> Create Model"
      ],
      "metadata": {
        "id": "foqgCgtpKguw"
      }
    },
    {
      "cell_type": "code",
      "source": [
        "\n",
        "model = Sequential()\n",
        "\n",
        "model.add(Embedding(Tokenizer_vocab_size, 32, input_length = 100)) # Accepts the vector inputs\n",
        "\n",
        "model.add(tf.keras.layers.Bidirectional(tf.keras.layers.GRU(32))) \n",
        "model.add(Dropout(0.5))\n",
        "model.add(Dense(800, activation='relu'))\n",
        "model.add(Dropout(0.5))\n",
        "model.add(Dense(200, activation='relu'))\n",
        "model.add(Dropout(0.5))\n",
        "model.add(Dense(150, activation='softmax'))\n",
        "\n",
        "model.summary()"
      ],
      "metadata": {
        "id": "APO80_nx0NVU",
        "outputId": "e753ae87-a4b6-4324-b0b3-ab7fab3f4993",
        "colab": {
          "base_uri": "https://localhost:8080/"
        }
      },
      "execution_count": 27,
      "outputs": [
        {
          "output_type": "stream",
          "name": "stdout",
          "text": [
            "Model: \"sequential_3\"\n",
            "_________________________________________________________________\n",
            " Layer (type)                Output Shape              Param #   \n",
            "=================================================================\n",
            " embedding_3 (Embedding)     (None, 100, 32)           167360    \n",
            "                                                                 \n",
            " bidirectional_2 (Bidirectio  (None, 64)               12672     \n",
            " nal)                                                            \n",
            "                                                                 \n",
            " dropout_9 (Dropout)         (None, 64)                0         \n",
            "                                                                 \n",
            " dense_9 (Dense)             (None, 800)               52000     \n",
            "                                                                 \n",
            " dropout_10 (Dropout)        (None, 800)               0         \n",
            "                                                                 \n",
            " dense_10 (Dense)            (None, 200)               160200    \n",
            "                                                                 \n",
            " dropout_11 (Dropout)        (None, 200)               0         \n",
            "                                                                 \n",
            " dense_11 (Dense)            (None, 150)               30150     \n",
            "                                                                 \n",
            "=================================================================\n",
            "Total params: 422,382\n",
            "Trainable params: 422,382\n",
            "Non-trainable params: 0\n",
            "_________________________________________________________________\n"
          ]
        }
      ]
    },
    {
      "cell_type": "code",
      "source": [
        "Nadam = tf.keras.optimizers.Nadam(lr=0.002, beta_1=0.9, beta_2=0.999, epsilon=1e-08, schedule_decay=0.004)\n",
        "model.compile(loss='categorical_crossentropy', optimizer=Nadam, metrics=['accuracy'])\n",
        "\n",
        "history  = model.fit(X_train_encoded_padded_words,y_train, epochs = 30, batch_size=100, verbose=1, validation_data=(X_val_encoded_padded_words, y_val))\n"
      ],
      "metadata": {
        "id": "KyhK9ybf0PHR",
        "outputId": "1af311be-d055-418a-8c01-0aec767b9511",
        "colab": {
          "base_uri": "https://localhost:8080/"
        }
      },
      "execution_count": 28,
      "outputs": [
        {
          "output_type": "stream",
          "name": "stdout",
          "text": [
            "Epoch 1/30\n"
          ]
        },
        {
          "output_type": "stream",
          "name": "stderr",
          "text": [
            "/usr/local/lib/python3.7/dist-packages/keras/optimizer_v2/nadam.py:73: UserWarning: The `lr` argument is deprecated, use `learning_rate` instead.\n",
            "  super(Nadam, self).__init__(name, **kwargs)\n"
          ]
        },
        {
          "output_type": "stream",
          "name": "stdout",
          "text": [
            "135/135 [==============================] - 13s 66ms/step - loss: 4.6842 - accuracy: 0.0252 - val_loss: 3.4900 - val_accuracy: 0.1440\n",
            "Epoch 2/30\n",
            "135/135 [==============================] - 8s 59ms/step - loss: 3.2868 - accuracy: 0.1435 - val_loss: 2.3561 - val_accuracy: 0.3400\n",
            "Epoch 3/30\n",
            "135/135 [==============================] - 8s 60ms/step - loss: 2.6116 - accuracy: 0.2355 - val_loss: 1.9153 - val_accuracy: 0.4593\n",
            "Epoch 4/30\n",
            "135/135 [==============================] - 8s 60ms/step - loss: 2.2371 - accuracy: 0.3130 - val_loss: 1.5852 - val_accuracy: 0.5760\n",
            "Epoch 5/30\n",
            "135/135 [==============================] - 8s 59ms/step - loss: 1.9752 - accuracy: 0.3836 - val_loss: 1.4606 - val_accuracy: 0.6293\n",
            "Epoch 6/30\n",
            "135/135 [==============================] - 8s 59ms/step - loss: 1.7875 - accuracy: 0.4348 - val_loss: 1.3136 - val_accuracy: 0.6567\n",
            "Epoch 7/30\n",
            "135/135 [==============================] - 8s 58ms/step - loss: 1.6444 - accuracy: 0.4674 - val_loss: 1.2569 - val_accuracy: 0.6600\n",
            "Epoch 8/30\n",
            "135/135 [==============================] - 8s 59ms/step - loss: 1.5184 - accuracy: 0.5074 - val_loss: 1.1988 - val_accuracy: 0.6813\n",
            "Epoch 9/30\n",
            "135/135 [==============================] - 8s 59ms/step - loss: 1.4502 - accuracy: 0.5376 - val_loss: 1.1203 - val_accuracy: 0.7247\n",
            "Epoch 10/30\n",
            "135/135 [==============================] - 8s 58ms/step - loss: 1.3583 - accuracy: 0.5608 - val_loss: 1.1531 - val_accuracy: 0.7093\n",
            "Epoch 11/30\n",
            "135/135 [==============================] - 8s 59ms/step - loss: 1.2921 - accuracy: 0.5870 - val_loss: 1.1256 - val_accuracy: 0.7220\n",
            "Epoch 12/30\n",
            "135/135 [==============================] - 8s 59ms/step - loss: 1.2329 - accuracy: 0.6062 - val_loss: 1.0704 - val_accuracy: 0.7507\n",
            "Epoch 13/30\n",
            "135/135 [==============================] - 8s 59ms/step - loss: 1.1853 - accuracy: 0.6245 - val_loss: 1.0895 - val_accuracy: 0.7440\n",
            "Epoch 14/30\n",
            "135/135 [==============================] - 8s 59ms/step - loss: 1.1426 - accuracy: 0.6306 - val_loss: 1.0563 - val_accuracy: 0.7547\n",
            "Epoch 15/30\n",
            "135/135 [==============================] - 8s 59ms/step - loss: 1.1051 - accuracy: 0.6476 - val_loss: 1.0423 - val_accuracy: 0.7633\n",
            "Epoch 16/30\n",
            "135/135 [==============================] - 8s 60ms/step - loss: 1.0586 - accuracy: 0.6640 - val_loss: 1.0302 - val_accuracy: 0.7833\n",
            "Epoch 17/30\n",
            "135/135 [==============================] - 8s 59ms/step - loss: 1.0230 - accuracy: 0.6735 - val_loss: 1.0421 - val_accuracy: 0.7707\n",
            "Epoch 18/30\n",
            "135/135 [==============================] - 8s 59ms/step - loss: 0.9890 - accuracy: 0.6882 - val_loss: 1.0502 - val_accuracy: 0.7747\n",
            "Epoch 19/30\n",
            "135/135 [==============================] - 8s 58ms/step - loss: 0.9517 - accuracy: 0.6996 - val_loss: 1.0709 - val_accuracy: 0.7713\n",
            "Epoch 20/30\n",
            "135/135 [==============================] - 8s 58ms/step - loss: 0.9299 - accuracy: 0.7087 - val_loss: 1.0866 - val_accuracy: 0.7660\n",
            "Epoch 21/30\n",
            "135/135 [==============================] - 8s 58ms/step - loss: 0.9050 - accuracy: 0.7182 - val_loss: 1.0479 - val_accuracy: 0.7753\n",
            "Epoch 22/30\n",
            "135/135 [==============================] - 8s 59ms/step - loss: 0.8860 - accuracy: 0.7291 - val_loss: 1.0887 - val_accuracy: 0.7767\n",
            "Epoch 23/30\n",
            "135/135 [==============================] - 8s 58ms/step - loss: 0.8561 - accuracy: 0.7305 - val_loss: 1.0932 - val_accuracy: 0.7773\n",
            "Epoch 24/30\n",
            "135/135 [==============================] - 8s 59ms/step - loss: 0.8062 - accuracy: 0.7467 - val_loss: 1.1263 - val_accuracy: 0.7840\n",
            "Epoch 25/30\n",
            "135/135 [==============================] - 8s 59ms/step - loss: 0.8134 - accuracy: 0.7485 - val_loss: 1.1324 - val_accuracy: 0.7800\n",
            "Epoch 26/30\n",
            "135/135 [==============================] - 8s 58ms/step - loss: 0.7800 - accuracy: 0.7561 - val_loss: 1.1543 - val_accuracy: 0.7807\n",
            "Epoch 27/30\n",
            "135/135 [==============================] - 8s 59ms/step - loss: 0.7632 - accuracy: 0.7657 - val_loss: 1.1778 - val_accuracy: 0.7767\n",
            "Epoch 28/30\n",
            "135/135 [==============================] - 8s 59ms/step - loss: 0.7519 - accuracy: 0.7665 - val_loss: 1.1737 - val_accuracy: 0.7833\n",
            "Epoch 29/30\n",
            "135/135 [==============================] - 8s 59ms/step - loss: 0.7533 - accuracy: 0.7659 - val_loss: 1.1519 - val_accuracy: 0.7853\n",
            "Epoch 30/30\n",
            "135/135 [==============================] - 8s 59ms/step - loss: 0.7266 - accuracy: 0.7753 - val_loss: 1.1871 - val_accuracy: 0.7813\n"
          ]
        }
      ]
    },
    {
      "cell_type": "code",
      "source": [
        "from matplotlib import pyplot as plt\n",
        "plt.plot(history.history['accuracy'])\n",
        "plt.plot(history.history['val_accuracy'])\n",
        "plt.title('model accuracy')\n",
        "plt.ylabel('accuracy')\n",
        "plt.xlabel('epoch')\n",
        "plt.legend(['train', 'validation'], loc='lower right')\n",
        "plt.show()"
      ],
      "metadata": {
        "id": "khzOWgm-5YDk",
        "outputId": "89a30603-10ca-4305-c3f0-d586aa40c9a5",
        "colab": {
          "base_uri": "https://localhost:8080/",
          "height": 295
        }
      },
      "execution_count": 29,
      "outputs": [
        {
          "output_type": "display_data",
          "data": {
            "text/plain": [
              "<Figure size 432x288 with 1 Axes>"
            ],
            "image/png": "[encoded data removed]"
          },
          "metadata": {
            "needs_background": "light"
          }
        }
      ]
    }
  ]
}