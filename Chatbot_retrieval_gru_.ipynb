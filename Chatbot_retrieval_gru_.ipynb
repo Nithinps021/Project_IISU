{
  "nbformat": 4,
  "nbformat_minor": 0,
  "metadata": {
    "colab": {
      "name": "Chatbot_retrieval_gru_.ipynb",
      "provenance": [],
      "authorship_tag": "ABX9TyNRRedK4gP2oji0VR/X1MmL",
      "include_colab_link": true
    },
    "kernelspec": {
      "name": "python3",
      "display_name": "Python 3"
    },
    "language_info": {
      "name": "python"
    },
    "accelerator": "GPU"
  },
  "cells": [
    {
      "cell_type": "markdown",
      "metadata": {
        "id": "view-in-github",
        "colab_type": "text"
      },
      "source": [
        "<a href=\"https://colab.research.google.com/github/Nithinps021/Project_IISU/blob/main/Chatbot_retrieval_gru_.ipynb\" target=\"_parent\"><img src=\"https://colab.research.google.com/assets/colab-badge.svg\" alt=\"Open In Colab\"/></a>"
      ]
    },
    {
      "cell_type": "code",
      "source": [
        "import numpy as np\n",
        "import random\n",
        "import json\n",
        "import matplotlib.pyplot as plt\n",
        "import tensorflow as tf\n",
        "from tensorflow import keras\n",
        "from tensorflow.keras.layers import LSTM, Dense, Bidirectional, Dropout, Dense, Activation, Flatten, Embedding\n",
        "from tensorflow.keras.preprocessing.text import Tokenizer\n",
        "from tensorflow.keras.preprocessing import sequence\n",
        "from tensorflow.keras.preprocessing.sequence import pad_sequences\n",
        "from tensorflow.keras.models import Sequential,Model,load_model\n",
        "from tensorflow.keras.optimizers import SGD"
      ],
      "metadata": {
        "id": "6fq1bB2xtz9t"
      },
      "execution_count": 1,
      "outputs": []
    },
    {
      "cell_type": "code",
      "source": [
        "data_file = open('is_train.json').read()\n",
        "intents = json.loads(data_file)\n",
        "random.shuffle(intents)"
      ],
      "metadata": {
        "id": "gDTEkuaTvDxs"
      },
      "execution_count": 2,
      "outputs": []
    },
    {
      "cell_type": "code",
      "source": [
        "classes=[]\n",
        "for i in intents:\n",
        "  if i[1] not in classes:\n",
        "    classes.append(i[1])\n",
        "\n",
        "tot_data=len(intents)\n",
        "tot_classes=len(classes)\n",
        "x_train=np.array([])\n",
        "y_train=np.zeros(shape=(tot_data,tot_classes), dtype=np.uint8)"
      ],
      "metadata": {
        "id": "ps8EBl3bvPJh"
      },
      "execution_count": 3,
      "outputs": []
    },
    {
      "cell_type": "code",
      "source": [
        "for i in range(tot_data):\n",
        "  x_train=np.append(x_train,intents[i][0])\n",
        "  y_train[i][classes.index(intents[i][1])]=1"
      ],
      "metadata": {
        "id": "nRiMRpvlwPVT"
      },
      "execution_count": 4,
      "outputs": []
    },
    {
      "cell_type": "code",
      "source": [
        "text=x_train\n",
        "Tokenizer = Tokenizer()\n",
        "Tokenizer.fit_on_texts(text) \n",
        "Tokenizer_vocab_size = len(Tokenizer.word_index) + 1\n",
        "Tokenizer_vocab_size, x_train.shape, y_train.shape"
      ],
      "metadata": {
        "id": "9-LmDtlsySo3",
        "outputId": "0f7d3cef-4d8c-4cf1-db52-3a1928ababfd",
        "colab": {
          "base_uri": "https://localhost:8080/"
        }
      },
      "execution_count": 5,
      "outputs": [
        {
          "output_type": "execute_result",
          "data": {
            "text/plain": [
              "(5230, (15000,), (15000, 150))"
            ]
          },
          "metadata": {},
          "execution_count": 5
        }
      ]
    },
    {
      "cell_type": "code",
      "source": [
        "x_val=x_train[0:1500]\n",
        "y_val=y_train[0:1500]\n",
        "\n",
        "x_train=x_train[1500:]\n",
        "y_train=y_train[1500:]\n"
      ],
      "metadata": {
        "id": "-yXCVmW2zCg7"
      },
      "execution_count": 6,
      "outputs": []
    },
    {
      "cell_type": "code",
      "source": [
        "X_train_encoded_words = Tokenizer.texts_to_sequences(x_train)\n",
        "X_val_encoded_words = Tokenizer.texts_to_sequences(x_val)\n",
        "X_train_encoded_padded_words = sequence.pad_sequences(X_train_encoded_words, maxlen = 100)\n",
        "X_val_encoded_padded_words = sequence.pad_sequences(X_val_encoded_words, maxlen = 100)"
      ],
      "metadata": {
        "id": "fozE4GOFzmE4"
      },
      "execution_count": 7,
      "outputs": []
    },
    {
      "cell_type": "code",
      "source": [
        "X_train_encoded_padded_words"
      ],
      "metadata": {
        "id": "sG9wRe28zwsL",
        "outputId": "91545f50-ac48-4d1b-9fdc-6dec95f5add1",
        "colab": {
          "base_uri": "https://localhost:8080/"
        }
      },
      "execution_count": 8,
      "outputs": [
        {
          "output_type": "execute_result",
          "data": {
            "text/plain": [
              "array([[   0,    0,    0, ...,   75,   40, 1978],\n",
              "       [   0,    0,    0, ...,    9,   15,  404],\n",
              "       [   0,    0,    0, ...,    0,  426,  879],\n",
              "       ...,\n",
              "       [   0,    0,    0, ...,   57,  950, 1609],\n",
              "       [   0,    0,    0, ..., 2035,   48, 1547],\n",
              "       [   0,    0,    0, ...,    2,   12,   34]], dtype=int32)"
            ]
          },
          "metadata": {},
          "execution_count": 8
        }
      ]
    },
    {
      "cell_type": "code",
      "source": [
        "\n",
        "model = Sequential()\n",
        "\n",
        "model.add(Embedding(Tokenizer_vocab_size, 32, input_length = 100)) \n",
        "\n",
        "model.add(tf.keras.layers.Bidirectional(tf.keras.layers.GRU(32)))\n",
        "model.add(Dropout(0.5))\n",
        "model.add(Dense(800, activation='relu'))\n",
        "model.add(Dropout(0.5))\n",
        "model.add(Dense(200, activation='relu'))\n",
        "model.add(Dropout(0.5))\n",
        "model.add(Dense(150, activation='softmax'))\n",
        "\n",
        "model.summary()"
      ],
      "metadata": {
        "id": "APO80_nx0NVU",
        "outputId": "92331ac1-6a17-4084-8942-e8b83eb64c5e",
        "colab": {
          "base_uri": "https://localhost:8080/"
        }
      },
      "execution_count": 12,
      "outputs": [
        {
          "output_type": "stream",
          "name": "stdout",
          "text": [
            "Model: \"sequential_1\"\n",
            "_________________________________________________________________\n",
            " Layer (type)                Output Shape              Param #   \n",
            "=================================================================\n",
            " embedding_1 (Embedding)     (None, 100, 32)           167360    \n",
            "                                                                 \n",
            " bidirectional (Bidirectiona  (None, 64)               12672     \n",
            " l)                                                              \n",
            "                                                                 \n",
            " dropout_3 (Dropout)         (None, 64)                0         \n",
            "                                                                 \n",
            " dense_3 (Dense)             (None, 800)               52000     \n",
            "                                                                 \n",
            " dropout_4 (Dropout)         (None, 800)               0         \n",
            "                                                                 \n",
            " dense_4 (Dense)             (None, 200)               160200    \n",
            "                                                                 \n",
            " dropout_5 (Dropout)         (None, 200)               0         \n",
            "                                                                 \n",
            " dense_5 (Dense)             (None, 150)               30150     \n",
            "                                                                 \n",
            "=================================================================\n",
            "Total params: 422,382\n",
            "Trainable params: 422,382\n",
            "Non-trainable params: 0\n",
            "_________________________________________________________________\n"
          ]
        }
      ]
    },
    {
      "cell_type": "code",
      "source": [
        "Nadam = tf.keras.optimizers.Nadam(lr=0.002, beta_1=0.9, beta_2=0.999, epsilon=1e-08, schedule_decay=0.004)\n",
        "model.compile(loss='categorical_crossentropy', optimizer=Nadam, metrics=['accuracy'])\n",
        "\n",
        "history  = model.fit(X_train_encoded_padded_words,y_train, epochs = 30, batch_size=100, verbose=1, validation_data=(X_val_encoded_padded_words, y_val))\n"
      ],
      "metadata": {
        "id": "KyhK9ybf0PHR",
        "outputId": "a36b5cbf-d687-4119-a951-b4720553bb43",
        "colab": {
          "base_uri": "https://localhost:8080/"
        }
      },
      "execution_count": 13,
      "outputs": [
        {
          "output_type": "stream",
          "name": "stdout",
          "text": [
            "Epoch 1/30\n"
          ]
        },
        {
          "output_type": "stream",
          "name": "stderr",
          "text": [
            "/usr/local/lib/python3.7/dist-packages/keras/optimizer_v2/nadam.py:73: UserWarning: The `lr` argument is deprecated, use `learning_rate` instead.\n",
            "  super(Nadam, self).__init__(name, **kwargs)\n"
          ]
        },
        {
          "output_type": "stream",
          "name": "stdout",
          "text": [
            "135/135 [==============================] - 13s 67ms/step - loss: 4.7458 - accuracy: 0.0170 - val_loss: 3.9195 - val_accuracy: 0.0753\n",
            "Epoch 2/30\n",
            "135/135 [==============================] - 8s 60ms/step - loss: 3.5917 - accuracy: 0.1025 - val_loss: 2.7091 - val_accuracy: 0.2953\n",
            "Epoch 3/30\n",
            "135/135 [==============================] - 8s 61ms/step - loss: 2.7866 - accuracy: 0.2067 - val_loss: 1.9809 - val_accuracy: 0.4707\n",
            "Epoch 4/30\n",
            "135/135 [==============================] - 8s 59ms/step - loss: 2.2823 - accuracy: 0.3113 - val_loss: 1.5693 - val_accuracy: 0.5980\n",
            "Epoch 5/30\n",
            "135/135 [==============================] - 8s 58ms/step - loss: 1.9566 - accuracy: 0.3965 - val_loss: 1.3908 - val_accuracy: 0.6353\n",
            "Epoch 6/30\n",
            "135/135 [==============================] - 8s 59ms/step - loss: 1.7556 - accuracy: 0.4536 - val_loss: 1.2236 - val_accuracy: 0.6967\n",
            "Epoch 7/30\n",
            "135/135 [==============================] - 8s 60ms/step - loss: 1.5716 - accuracy: 0.4967 - val_loss: 1.1267 - val_accuracy: 0.7220\n",
            "Epoch 8/30\n",
            "135/135 [==============================] - 8s 59ms/step - loss: 1.4605 - accuracy: 0.5364 - val_loss: 1.0792 - val_accuracy: 0.7253\n",
            "Epoch 9/30\n",
            "135/135 [==============================] - 8s 59ms/step - loss: 1.3827 - accuracy: 0.5629 - val_loss: 1.0407 - val_accuracy: 0.7447\n",
            "Epoch 10/30\n",
            "135/135 [==============================] - 8s 59ms/step - loss: 1.3198 - accuracy: 0.5781 - val_loss: 1.0040 - val_accuracy: 0.7500\n",
            "Epoch 11/30\n",
            "135/135 [==============================] - 8s 59ms/step - loss: 1.2335 - accuracy: 0.6083 - val_loss: 0.9841 - val_accuracy: 0.7693\n",
            "Epoch 12/30\n",
            "135/135 [==============================] - 8s 59ms/step - loss: 1.1726 - accuracy: 0.6210 - val_loss: 1.0002 - val_accuracy: 0.7707\n",
            "Epoch 13/30\n",
            "135/135 [==============================] - 8s 60ms/step - loss: 1.1443 - accuracy: 0.6363 - val_loss: 0.9756 - val_accuracy: 0.7733\n",
            "Epoch 14/30\n",
            "135/135 [==============================] - 8s 58ms/step - loss: 1.0954 - accuracy: 0.6567 - val_loss: 0.9741 - val_accuracy: 0.7933\n",
            "Epoch 15/30\n",
            "135/135 [==============================] - 8s 58ms/step - loss: 1.0653 - accuracy: 0.6633 - val_loss: 0.9689 - val_accuracy: 0.7953\n",
            "Epoch 16/30\n",
            "135/135 [==============================] - 8s 59ms/step - loss: 1.0308 - accuracy: 0.6781 - val_loss: 0.9625 - val_accuracy: 0.7960\n",
            "Epoch 17/30\n",
            "135/135 [==============================] - 8s 59ms/step - loss: 0.9888 - accuracy: 0.6868 - val_loss: 0.9758 - val_accuracy: 0.7873\n",
            "Epoch 18/30\n",
            "135/135 [==============================] - 8s 60ms/step - loss: 0.9477 - accuracy: 0.7034 - val_loss: 0.9961 - val_accuracy: 0.7920\n",
            "Epoch 19/30\n",
            "135/135 [==============================] - 8s 59ms/step - loss: 0.9414 - accuracy: 0.7013 - val_loss: 0.9509 - val_accuracy: 0.8040\n",
            "Epoch 20/30\n",
            "135/135 [==============================] - 8s 59ms/step - loss: 0.8979 - accuracy: 0.7241 - val_loss: 0.9162 - val_accuracy: 0.8133\n",
            "Epoch 21/30\n",
            "135/135 [==============================] - 8s 59ms/step - loss: 0.8901 - accuracy: 0.7227 - val_loss: 0.9583 - val_accuracy: 0.7967\n",
            "Epoch 22/30\n",
            "135/135 [==============================] - 8s 58ms/step - loss: 0.8678 - accuracy: 0.7324 - val_loss: 0.9474 - val_accuracy: 0.8020\n",
            "Epoch 23/30\n",
            "135/135 [==============================] - 8s 58ms/step - loss: 0.8200 - accuracy: 0.7473 - val_loss: 0.9722 - val_accuracy: 0.8107\n",
            "Epoch 24/30\n",
            "135/135 [==============================] - 8s 59ms/step - loss: 0.8307 - accuracy: 0.7464 - val_loss: 0.9394 - val_accuracy: 0.8160\n",
            "Epoch 25/30\n",
            "135/135 [==============================] - 8s 58ms/step - loss: 0.8053 - accuracy: 0.7517 - val_loss: 0.9450 - val_accuracy: 0.8020\n",
            "Epoch 26/30\n",
            "135/135 [==============================] - 8s 58ms/step - loss: 0.7871 - accuracy: 0.7571 - val_loss: 0.9903 - val_accuracy: 0.8107\n",
            "Epoch 27/30\n",
            "135/135 [==============================] - 8s 59ms/step - loss: 0.7663 - accuracy: 0.7627 - val_loss: 0.9993 - val_accuracy: 0.8120\n",
            "Epoch 28/30\n",
            "135/135 [==============================] - 8s 59ms/step - loss: 0.7473 - accuracy: 0.7707 - val_loss: 1.0376 - val_accuracy: 0.7987\n",
            "Epoch 29/30\n",
            "135/135 [==============================] - 8s 59ms/step - loss: 0.7516 - accuracy: 0.7740 - val_loss: 0.9864 - val_accuracy: 0.8020\n",
            "Epoch 30/30\n",
            "135/135 [==============================] - 8s 59ms/step - loss: 0.7421 - accuracy: 0.7696 - val_loss: 1.0170 - val_accuracy: 0.8053\n"
          ]
        }
      ]
    },
    {
      "cell_type": "code",
      "source": [
        "from matplotlib import pyplot as plt\n",
        "plt.plot(history.history['accuracy'])\n",
        "plt.plot(history.history['val_accuracy'])\n",
        "plt.title('model accuracy')\n",
        "plt.ylabel('accuracy')\n",
        "plt.xlabel('epoch')\n",
        "plt.legend(['train', 'validation'], loc='lower right')\n",
        "plt.show()"
      ],
      "metadata": {
        "id": "khzOWgm-5YDk",
        "outputId": "3872fe55-83a8-47d1-9ab0-fcffc7176397",
        "colab": {
          "base_uri": "https://localhost:8080/",
          "height": 295
        }
      },
      "execution_count": 14,
      "outputs": [
        {
          "output_type": "display_data",
          "data": {
            "text/plain": [
              "<Figure size 432x288 with 1 Axes>"
            ],
            "image/png": "[encoded data removed]"
          },
          "metadata": {
            "needs_background": "light"
          }
        }
      ]
    }
  ]
}