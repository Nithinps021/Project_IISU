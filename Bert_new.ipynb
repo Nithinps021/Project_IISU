{
  "nbformat": 4,
  "nbformat_minor": 0,
  "metadata": {
    "colab": {
      "name": "Bert_new.ipynb",
      "provenance": [],
      "authorship_tag": "ABX9TyMho47N8qy3yveC6+dFsERD",
      "include_colab_link": true
    },
    "kernelspec": {
      "name": "python3",
      "display_name": "Python 3"
    },
    "language_info": {
      "name": "python"
    },
    "accelerator": "GPU",
    "widgets": {
      "application/vnd.jupyter.widget-state+json": {
        "4994e44a06354844b1ba3071540da626": {
          "model_module": "@jupyter-widgets/controls",
          "model_name": "HBoxModel",
          "model_module_version": "1.5.0",
          "state": {
            "_dom_classes": [],
            "_model_module": "@jupyter-widgets/controls",
            "_model_module_version": "1.5.0",
            "_model_name": "HBoxModel",
            "_view_count": null,
            "_view_module": "@jupyter-widgets/controls",
            "_view_module_version": "1.5.0",
            "_view_name": "HBoxView",
            "box_style": "",
            "children": [
              "IPY_MODEL_68628aad06454698a342acaeb301cb29",
              "IPY_MODEL_6c673c82e5d9437d8bbfb3562c78ef9d",
              "IPY_MODEL_f14169926bb740b184cd72b416a6ff9f"
            ],
            "layout": "IPY_MODEL_d4e9c37df8524991be150effea9c5c9a"
          }
        },
        "68628aad06454698a342acaeb301cb29": {
          "model_module": "@jupyter-widgets/controls",
          "model_name": "HTMLModel",
          "model_module_version": "1.5.0",
          "state": {
            "_dom_classes": [],
            "_model_module": "@jupyter-widgets/controls",
            "_model_module_version": "1.5.0",
            "_model_name": "HTMLModel",
            "_view_count": null,
            "_view_module": "@jupyter-widgets/controls",
            "_view_module_version": "1.5.0",
            "_view_name": "HTMLView",
            "description": "",
            "description_tooltip": null,
            "layout": "IPY_MODEL_d728c7df57b34e1ca92092bb320c7256",
            "placeholder": "​",
            "style": "IPY_MODEL_7a09be703f534902b4f60630a9491788",
            "value": "Downloading: 100%"
          }
        },
        "6c673c82e5d9437d8bbfb3562c78ef9d": {
          "model_module": "@jupyter-widgets/controls",
          "model_name": "FloatProgressModel",
          "model_module_version": "1.5.0",
          "state": {
            "_dom_classes": [],
            "_model_module": "@jupyter-widgets/controls",
            "_model_module_version": "1.5.0",
            "_model_name": "FloatProgressModel",
            "_view_count": null,
            "_view_module": "@jupyter-widgets/controls",
            "_view_module_version": "1.5.0",
            "_view_name": "ProgressView",
            "bar_style": "success",
            "description": "",
            "description_tooltip": null,
            "layout": "IPY_MODEL_959d62dac5ea4b2cafbc6e10e3598be9",
            "max": 526681800,
            "min": 0,
            "orientation": "horizontal",
            "style": "IPY_MODEL_f63bfd73d47d4af785aa94b0441dc93a",
            "value": 526681800
          }
        },
        "f14169926bb740b184cd72b416a6ff9f": {
          "model_module": "@jupyter-widgets/controls",
          "model_name": "HTMLModel",
          "model_module_version": "1.5.0",
          "state": {
            "_dom_classes": [],
            "_model_module": "@jupyter-widgets/controls",
            "_model_module_version": "1.5.0",
            "_model_name": "HTMLModel",
            "_view_count": null,
            "_view_module": "@jupyter-widgets/controls",
            "_view_module_version": "1.5.0",
            "_view_name": "HTMLView",
            "description": "",
            "description_tooltip": null,
            "layout": "IPY_MODEL_afd3878159c246b7aa5d6ef8bee2276f",
            "placeholder": "​",
            "style": "IPY_MODEL_e379967511644dcdbd13cb501eb2e885",
            "value": " 502M/502M [00:09&lt;00:00, 51.1MB/s]"
          }
        },
        "d4e9c37df8524991be150effea9c5c9a": {
          "model_module": "@jupyter-widgets/base",
          "model_name": "LayoutModel",
          "model_module_version": "1.2.0",
          "state": {
            "_model_module": "@jupyter-widgets/base",
            "_model_module_version": "1.2.0",
            "_model_name": "LayoutModel",
            "_view_count": null,
            "_view_module": "@jupyter-widgets/base",
            "_view_module_version": "1.2.0",
            "_view_name": "LayoutView",
            "align_content": null,
            "align_items": null,
            "align_self": null,
            "border": null,
            "bottom": null,
            "display": null,
            "flex": null,
            "flex_flow": null,
            "grid_area": null,
            "grid_auto_columns": null,
            "grid_auto_flow": null,
            "grid_auto_rows": null,
            "grid_column": null,
            "grid_gap": null,
            "grid_row": null,
            "grid_template_areas": null,
            "grid_template_columns": null,
            "grid_template_rows": null,
            "height": null,
            "justify_content": null,
            "justify_items": null,
            "left": null,
            "margin": null,
            "max_height": null,
            "max_width": null,
            "min_height": null,
            "min_width": null,
            "object_fit": null,
            "object_position": null,
            "order": null,
            "overflow": null,
            "overflow_x": null,
            "overflow_y": null,
            "padding": null,
            "right": null,
            "top": null,
            "visibility": null,
            "width": null
          }
        },
        "d728c7df57b34e1ca92092bb320c7256": {
          "model_module": "@jupyter-widgets/base",
          "model_name": "LayoutModel",
          "model_module_version": "1.2.0",
          "state": {
            "_model_module": "@jupyter-widgets/base",
            "_model_module_version": "1.2.0",
            "_model_name": "LayoutModel",
            "_view_count": null,
            "_view_module": "@jupyter-widgets/base",
            "_view_module_version": "1.2.0",
            "_view_name": "LayoutView",
            "align_content": null,
            "align_items": null,
            "align_self": null,
            "border": null,
            "bottom": null,
            "display": null,
            "flex": null,
            "flex_flow": null,
            "grid_area": null,
            "grid_auto_columns": null,
            "grid_auto_flow": null,
            "grid_auto_rows": null,
            "grid_column": null,
            "grid_gap": null,
            "grid_row": null,
            "grid_template_areas": null,
            "grid_template_columns": null,
            "grid_template_rows": null,
            "height": null,
            "justify_content": null,
            "justify_items": null,
            "left": null,
            "margin": null,
            "max_height": null,
            "max_width": null,
            "min_height": null,
            "min_width": null,
            "object_fit": null,
            "object_position": null,
            "order": null,
            "overflow": null,
            "overflow_x": null,
            "overflow_y": null,
            "padding": null,
            "right": null,
            "top": null,
            "visibility": null,
            "width": null
          }
        },
        "7a09be703f534902b4f60630a9491788": {
          "model_module": "@jupyter-widgets/controls",
          "model_name": "DescriptionStyleModel",
          "model_module_version": "1.5.0",
          "state": {
            "_model_module": "@jupyter-widgets/controls",
            "_model_module_version": "1.5.0",
            "_model_name": "DescriptionStyleModel",
            "_view_count": null,
            "_view_module": "@jupyter-widgets/base",
            "_view_module_version": "1.2.0",
            "_view_name": "StyleView",
            "description_width": ""
          }
        },
        "959d62dac5ea4b2cafbc6e10e3598be9": {
          "model_module": "@jupyter-widgets/base",
          "model_name": "LayoutModel",
          "model_module_version": "1.2.0",
          "state": {
            "_model_module": "@jupyter-widgets/base",
            "_model_module_version": "1.2.0",
            "_model_name": "LayoutModel",
            "_view_count": null,
            "_view_module": "@jupyter-widgets/base",
            "_view_module_version": "1.2.0",
            "_view_name": "LayoutView",
            "align_content": null,
            "align_items": null,
            "align_self": null,
            "border": null,
            "bottom": null,
            "display": null,
            "flex": null,
            "flex_flow": null,
            "grid_area": null,
            "grid_auto_columns": null,
            "grid_auto_flow": null,
            "grid_auto_rows": null,
            "grid_column": null,
            "grid_gap": null,
            "grid_row": null,
            "grid_template_areas": null,
            "grid_template_columns": null,
            "grid_template_rows": null,
            "height": null,
            "justify_content": null,
            "justify_items": null,
            "left": null,
            "margin": null,
            "max_height": null,
            "max_width": null,
            "min_height": null,
            "min_width": null,
            "object_fit": null,
            "object_position": null,
            "order": null,
            "overflow": null,
            "overflow_x": null,
            "overflow_y": null,
            "padding": null,
            "right": null,
            "top": null,
            "visibility": null,
            "width": null
          }
        },
        "f63bfd73d47d4af785aa94b0441dc93a": {
          "model_module": "@jupyter-widgets/controls",
          "model_name": "ProgressStyleModel",
          "model_module_version": "1.5.0",
          "state": {
            "_model_module": "@jupyter-widgets/controls",
            "_model_module_version": "1.5.0",
            "_model_name": "ProgressStyleModel",
            "_view_count": null,
            "_view_module": "@jupyter-widgets/base",
            "_view_module_version": "1.2.0",
            "_view_name": "StyleView",
            "bar_color": null,
            "description_width": ""
          }
        },
        "afd3878159c246b7aa5d6ef8bee2276f": {
          "model_module": "@jupyter-widgets/base",
          "model_name": "LayoutModel",
          "model_module_version": "1.2.0",
          "state": {
            "_model_module": "@jupyter-widgets/base",
            "_model_module_version": "1.2.0",
            "_model_name": "LayoutModel",
            "_view_count": null,
            "_view_module": "@jupyter-widgets/base",
            "_view_module_version": "1.2.0",
            "_view_name": "LayoutView",
            "align_content": null,
            "align_items": null,
            "align_self": null,
            "border": null,
            "bottom": null,
            "display": null,
            "flex": null,
            "flex_flow": null,
            "grid_area": null,
            "grid_auto_columns": null,
            "grid_auto_flow": null,
            "grid_auto_rows": null,
            "grid_column": null,
            "grid_gap": null,
            "grid_row": null,
            "grid_template_areas": null,
            "grid_template_columns": null,
            "grid_template_rows": null,
            "height": null,
            "justify_content": null,
            "justify_items": null,
            "left": null,
            "margin": null,
            "max_height": null,
            "max_width": null,
            "min_height": null,
            "min_width": null,
            "object_fit": null,
            "object_position": null,
            "order": null,
            "overflow": null,
            "overflow_x": null,
            "overflow_y": null,
            "padding": null,
            "right": null,
            "top": null,
            "visibility": null,
            "width": null
          }
        },
        "e379967511644dcdbd13cb501eb2e885": {
          "model_module": "@jupyter-widgets/controls",
          "model_name": "DescriptionStyleModel",
          "model_module_version": "1.5.0",
          "state": {
            "_model_module": "@jupyter-widgets/controls",
            "_model_module_version": "1.5.0",
            "_model_name": "DescriptionStyleModel",
            "_view_count": null,
            "_view_module": "@jupyter-widgets/base",
            "_view_module_version": "1.2.0",
            "_view_name": "StyleView",
            "description_width": ""
          }
        }
      }
    }
  },
  "cells": [
    {
      "cell_type": "markdown",
      "metadata": {
        "id": "view-in-github",
        "colab_type": "text"
      },
      "source": [
        "<a href=\"https://colab.research.google.com/github/Nithinps021/Project_IISU/blob/main/Bert_new.ipynb\" target=\"_parent\"><img src=\"https://colab.research.google.com/assets/colab-badge.svg\" alt=\"Open In Colab\"/></a>"
      ]
    },
    {
      "cell_type": "code",
      "execution_count": 1,
      "metadata": {
        "colab": {
          "base_uri": "https://localhost:8080/"
        },
        "id": "D6EhIcsylBjZ",
        "outputId": "20132107-dda2-4b45-9533-14246437b059"
      },
      "outputs": [
        {
          "output_type": "stream",
          "name": "stdout",
          "text": [
            "Cloning into 'Project_IISU'...\n",
            "remote: Enumerating objects: 74, done.\u001b[K\n",
            "remote: Counting objects: 100% (74/74), done.\u001b[K\n",
            "remote: Compressing objects: 100% (65/65), done.\u001b[K\n",
            "remote: Total 74 (delta 28), reused 18 (delta 5), pack-reused 0\u001b[K\n",
            "Unpacking objects: 100% (74/74), done.\n"
          ]
        }
      ],
      "source": [
        "!git clone https://github.com/Nithinps021/Project_IISU.git"
      ]
    },
    {
      "cell_type": "code",
      "source": [
        "!pip install transformers"
      ],
      "metadata": {
        "id": "qEbv5ZzTle7V"
      },
      "execution_count": null,
      "outputs": []
    },
    {
      "cell_type": "code",
      "source": [
        "import json\n",
        "import numpy as np\n",
        "import random\n",
        "import tensorflow as tf\n",
        "from transformers import BertTokenizer\n",
        "from transformers import TFBertModel\n",
        "\n",
        "\n",
        "\n",
        "\n",
        "# some constant parameters\n",
        "seq_len=50\n",
        "batch_size=50\n",
        "split=0.9\n",
        "\n",
        "\n",
        "# label class\n",
        "classes=[]\n",
        "\n",
        "# data tokenization\n",
        "def tokenization(data_set):\n",
        "    xids = np.zeros((num_samples,seq_len))\n",
        "    xmask = np.zeros((num_samples,seq_len))\n",
        "    tokenizer = BertTokenizer.from_pretrained('bert-base-cased')\n",
        "    for i,data in enumerate(data_set):\n",
        "        tokens=tokenizer.encode_plus(data[0],max_length=seq_len,truncation=True,padding='max_length',add_special_tokens=True,return_tensors='tf')\n",
        "        xids[i,:]=tokens['input_ids']\n",
        "        xmask[i,:]=tokens['attention_mask']\n",
        "    return xids, xmask\n",
        "\n",
        "def findLabels(data_set):\n",
        "    for i,j in data_set:\n",
        "        if j not in classes:\n",
        "            classes.append(j)\n",
        "            \n",
        "    labels = np.zeros((num_samples,len(classes)))\n",
        "    for i,data in enumerate(data_set):\n",
        "        labels[i,classes.index(data[1])]=1\n",
        "    return labels\n",
        "\n",
        "def mapFunction(xid,xmask,label):\n",
        "    return {'input_ids':xid,'attention_mask':xmask},label\n",
        "\n",
        "def preprocessing(xids,xmask,labels):\n",
        "    dataset= tf.data.Dataset.from_tensor_slices((xids,xmask,labels))\n",
        "    dataset=dataset.map(mapFunction)\n",
        "    dataset =dataset.shuffle(10000).batch(batch_size,drop_remainder=True)\n",
        "    size = int((num_samples/batch_size)*split)\n",
        "    train=dataset.take(size)\n",
        "    val_data=dataset.skip(size)\n",
        "    return train,val_data\n",
        "\n",
        "def createModel():\n",
        "    bert = TFBertModel.from_pretrained('bert-base-cased')\n",
        "    input_ids= tf.keras.layers.Input(shape=(seq_len,),name='input_ids',dtype='int32')\n",
        "    mask=tf.keras.layers.Input(shape=(seq_len,),name='attention_mask',dtype='int32')\n",
        "    embedding= bert.bert(input_ids,attention_mask=mask)[1]\n",
        "    x=tf.keras.layers.Dense(100,activation='relu')(embedding)\n",
        "    y=tf.keras.layers.Dense(len(classes),activation='softmax',name='output')(x)\n",
        "    model=tf.keras.Model(inputs=[input_ids,mask],outputs=y)\n",
        "\n",
        "    optimizer = tf.keras.optimizers.Adam(lr=1e-5, decay=1e-6)\n",
        "    loss = tf.keras.losses.CategoricalCrossentropy()\n",
        "    acc = tf.keras.metrics.CategoricalAccuracy('accuracy')\n",
        "\n",
        "    model.compile(optimizer=optimizer, loss=loss, metrics=[acc])\n",
        "\n",
        "    return model\n",
        "\n",
        "\n",
        "# data loading part\n",
        "data_file = open('is_train.json').read()\n",
        "data_set = json.loads(data_file)\n",
        "random.shuffle(data_set)\n",
        "num_samples=len(data_set)\n",
        "\n",
        "xids,xmask = tokenization(data_set)\n",
        "labels=findLabels(data_set)\n",
        "train,validation=preprocessing(xids,xmask,labels)\n",
        "model = createModel()\n",
        "\n",
        "history = model.fit(train,epochs=8,validation_data=validation)\n",
        "model.save('bert_model.h5')"
      ],
      "metadata": {
        "colab": {
          "base_uri": "https://localhost:8080/",
          "height": 468,
          "referenced_widgets": [
            "4994e44a06354844b1ba3071540da626",
            "68628aad06454698a342acaeb301cb29",
            "6c673c82e5d9437d8bbfb3562c78ef9d",
            "f14169926bb740b184cd72b416a6ff9f",
            "d4e9c37df8524991be150effea9c5c9a",
            "d728c7df57b34e1ca92092bb320c7256",
            "7a09be703f534902b4f60630a9491788",
            "959d62dac5ea4b2cafbc6e10e3598be9",
            "f63bfd73d47d4af785aa94b0441dc93a",
            "afd3878159c246b7aa5d6ef8bee2276f",
            "e379967511644dcdbd13cb501eb2e885"
          ]
        },
        "id": "ZWxjeUWRljkM",
        "outputId": "2cb9084a-1783-447a-929e-f8b2d3db500e"
      },
      "execution_count": 4,
      "outputs": [
        {
          "output_type": "display_data",
          "data": {
            "text/plain": [
              "Downloading:   0%|          | 0.00/502M [00:00<?, ?B/s]"
            ],
            "application/vnd.jupyter.widget-view+json": {
              "version_major": 2,
              "version_minor": 0,
              "model_id": "4994e44a06354844b1ba3071540da626"
            }
          },
          "metadata": {}
        },
        {
          "output_type": "stream",
          "name": "stderr",
          "text": [
            "Some layers from the model checkpoint at bert-base-cased were not used when initializing TFBertModel: ['mlm___cls', 'nsp___cls']\n",
            "- This IS expected if you are initializing TFBertModel from the checkpoint of a model trained on another task or with another architecture (e.g. initializing a BertForSequenceClassification model from a BertForPreTraining model).\n",
            "- This IS NOT expected if you are initializing TFBertModel from the checkpoint of a model that you expect to be exactly identical (initializing a BertForSequenceClassification model from a BertForSequenceClassification model).\n",
            "All the layers of TFBertModel were initialized from the model checkpoint at bert-base-cased.\n",
            "If your task is similar to the task the model of the checkpoint was trained on, you can already use TFBertModel for predictions without further training.\n"
          ]
        },
        {
          "output_type": "stream",
          "name": "stdout",
          "text": [
            "Epoch 1/8\n"
          ]
        },
        {
          "output_type": "stream",
          "name": "stderr",
          "text": [
            "/usr/local/lib/python3.7/dist-packages/keras/optimizer_v2/adam.py:105: UserWarning: The `lr` argument is deprecated, use `learning_rate` instead.\n",
            "  super(Adam, self).__init__(name, **kwargs)\n"
          ]
        },
        {
          "output_type": "stream",
          "name": "stdout",
          "text": [
            "270/270 [==============================] - 135s 466ms/step - loss: 4.6173 - accuracy: 0.0827 - val_loss: 3.6675 - val_accuracy: 0.3360\n",
            "Epoch 2/8\n",
            "270/270 [==============================] - 128s 474ms/step - loss: 3.0738 - accuracy: 0.5227 - val_loss: 1.9869 - val_accuracy: 0.7713\n",
            "Epoch 3/8\n",
            "270/270 [==============================] - 130s 479ms/step - loss: 1.7331 - accuracy: 0.8236 - val_loss: 0.9417 - val_accuracy: 0.9373\n",
            "Epoch 4/8\n",
            "270/270 [==============================] - 131s 484ms/step - loss: 0.9092 - accuracy: 0.9360 - val_loss: 0.4344 - val_accuracy: 0.9800\n",
            "Epoch 5/8\n",
            "270/270 [==============================] - 130s 481ms/step - loss: 0.4982 - accuracy: 0.9673 - val_loss: 0.2287 - val_accuracy: 0.9880\n",
            "Epoch 6/8\n",
            "270/270 [==============================] - 131s 485ms/step - loss: 0.2990 - accuracy: 0.9806 - val_loss: 0.1422 - val_accuracy: 0.9887\n",
            "Epoch 7/8\n",
            "270/270 [==============================] - 131s 485ms/step - loss: 0.1919 - accuracy: 0.9881 - val_loss: 0.0795 - val_accuracy: 0.9967\n",
            "Epoch 8/8\n",
            "270/270 [==============================] - 131s 485ms/step - loss: 0.1322 - accuracy: 0.9924 - val_loss: 0.0620 - val_accuracy: 0.9967\n"
          ]
        }
      ]
    },
    {
      "cell_type": "code",
      "source": [
        "import matplotlib.pyplot as plt\n",
        "\n",
        "plt.plot(history.history['accuracy'])\n",
        "plt.plot(history.history['val_accuracy'])\n",
        "plt.title('model accuracy')\n",
        "plt.ylabel('accuracy')\n",
        "plt.xlabel('epoch')\n",
        "plt.legend(['train', 'test'], loc='upper left')\n",
        "plt.show()"
      ],
      "metadata": {
        "colab": {
          "base_uri": "https://localhost:8080/",
          "height": 295
        },
        "id": "eLNdJr_nr_0e",
        "outputId": "83517aff-1f7c-43fa-fd97-b58888e557c6"
      },
      "execution_count": 12,
      "outputs": [
        {
          "output_type": "display_data",
          "data": {
            "text/plain": [
              "<Figure size 432x288 with 1 Axes>"
            ],
            "image/png": "[encoded data removed]"
          },
          "metadata": {
            "needs_background": "light"
          }
        }
      ]
    }
  ]
}