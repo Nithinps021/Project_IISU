{
  "nbformat": 4,
  "nbformat_minor": 0,
  "metadata": {
    "colab": {
      "name": "ChatBot_IISU_demo.ipynb",
      "provenance": [],
      "authorship_tag": "ABX9TyN+8YkvhSvDf2dR0g+hpODk",
      "include_colab_link": true
    },
    "kernelspec": {
      "name": "python3",
      "display_name": "Python 3"
    },
    "language_info": {
      "name": "python"
    }
  },
  "cells": [
    {
      "cell_type": "markdown",
      "metadata": {
        "id": "view-in-github",
        "colab_type": "text"
      },
      "source": [
        "<a href=\"https://colab.research.google.com/github/Nithinps021/Project_IISU/blob/main/ChatBot_IISU_demo.ipynb\" target=\"_parent\"><img src=\"https://colab.research.google.com/assets/colab-badge.svg\" alt=\"Open In Colab\"/></a>"
      ]
    },
    {
      "cell_type": "code",
      "execution_count": null,
      "metadata": {
        "id": "D49-jHevqZ9M"
      },
      "outputs": [],
      "source": [
        "!pip install rasa==1.10.3\n",
        "!pip install -U tables==3.6.1\n",
        "!pip install -U ipython"
      ]
    },
    {
      "cell_type": "code",
      "source": [
        "!python -m spacy download en\n"
      ],
      "metadata": {
        "id": "INmNOFNZsURk"
      },
      "execution_count": null,
      "outputs": []
    },
    {
      "cell_type": "code",
      "source": [
        "!pip install nest_asyncio==1.3.3"
      ],
      "metadata": {
        "id": "gMK6Aj6BshQ3",
        "colab": {
          "base_uri": "https://localhost:8080/"
        },
        "outputId": "de12f910-3441-43f0-b07e-71ab559c808e"
      },
      "execution_count": null,
      "outputs": [
        {
          "output_type": "stream",
          "name": "stdout",
          "text": [
            "Requirement already satisfied: nest_asyncio==1.3.3 in /usr/local/lib/python3.7/dist-packages (1.3.3)\n"
          ]
        }
      ]
    },
    {
      "cell_type": "code",
      "source": [
        "import os\n",
        "import rasa\n",
        "import nest_asyncio\n",
        "\n",
        "nest_asyncio.apply()\n",
        "print(\"Environment ready\")"
      ],
      "metadata": {
        "colab": {
          "base_uri": "https://localhost:8080/"
        },
        "id": "G_Qzeloos-VF",
        "outputId": "995f8d5e-7336-4797-dfbe-9ef0a96f5a6b"
      },
      "execution_count": null,
      "outputs": [
        {
          "output_type": "stream",
          "name": "stdout",
          "text": [
            "Environment ready\n"
          ]
        }
      ]
    },
    {
      "cell_type": "code",
      "source": [
        "from rasa.cli.scaffold import create_initial_project;"
      ],
      "metadata": {
        "id": "dsmjTidU1rm_"
      },
      "execution_count": null,
      "outputs": []
    },
    {
      "cell_type": "code",
      "source": [
        "project='Project'\n",
        "create_initial_project(project)\n"
      ],
      "metadata": {
        "id": "PFHafpSzKBEi"
      },
      "execution_count": null,
      "outputs": []
    },
    {
      "cell_type": "code",
      "source": [
        "os.chdir(project)\n",
        "print(os.listdir('.'))"
      ],
      "metadata": {
        "colab": {
          "base_uri": "https://localhost:8080/"
        },
        "id": "_RveiUJaL7BL",
        "outputId": "17044ed9-f09a-4c43-88e7-8c239f7d249f"
      },
      "execution_count": null,
      "outputs": [
        {
          "output_type": "stream",
          "name": "stdout",
          "text": [
            "['Project', 'data', 'domain.yml', '__pycache__', 'config.yml', 'credentials.yml', 'actions.py', 'endpoints.yml', 'tests', '__init__.py']\n"
          ]
        }
      ]
    },
    {
      "cell_type": "code",
      "source": [
        "config='config.yml'\n",
        "training_files='data/'\n",
        "domain = 'domain.yml'\n",
        "output='models/'"
      ],
      "metadata": {
        "id": "C96wI3M3MI3v"
      },
      "execution_count": null,
      "outputs": []
    },
    {
      "cell_type": "code",
      "source": [
        "model_path = rasa.train(domain,config,[training_files],output)\n",
        "print(model_path)"
      ],
      "metadata": {
        "id": "WYVlQwSPKoGi"
      },
      "execution_count": null,
      "outputs": []
    },
    {
      "cell_type": "code",
      "source": [
        "from rasa.jupyter import chat\n",
        "endpoint='endpoint.yml'\n",
        "chat(model_path,endpoint)"
      ],
      "metadata": {
        "id": "WugXSlviOyvG"
      },
      "execution_count": null,
      "outputs": []
    }
  ]
}