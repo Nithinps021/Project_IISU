{
  "nbformat": 4,
  "nbformat_minor": 0,
  "metadata": {
    "colab": {
      "name": "chatbot.ipynb",
      "provenance": [],
      "authorship_tag": "ABX9TyOFI3BgFmd1AuA4iyEmVoQc",
      "include_colab_link": true
    },
    "kernelspec": {
      "name": "python3",
      "display_name": "Python 3"
    },
    "language_info": {
      "name": "python"
    }
  },
  "cells": [
    {
      "cell_type": "markdown",
      "metadata": {
        "id": "view-in-github",
        "colab_type": "text"
      },
      "source": [
        "<a href=\"https://colab.research.google.com/github/Nithinps021/Project_IISU/blob/main/chatbot.ipynb\" target=\"_parent\"><img src=\"https://colab.research.google.com/assets/colab-badge.svg\" alt=\"Open In Colab\"/></a>"
      ]
    },
    {
      "cell_type": "code",
      "execution_count": 11,
      "metadata": {
        "id": "CV0WOs8snnRt"
      },
      "outputs": [],
      "source": [
        "import nltk\n",
        "import warnings\n",
        "warnings.filterwarnings(\"ignore\")"
      ]
    },
    {
      "cell_type": "code",
      "source": [
        "import numpy as np\n",
        "import random\n",
        "import string"
      ],
      "metadata": {
        "id": "51M-WkGDspPM"
      },
      "execution_count": 12,
      "outputs": []
    },
    {
      "cell_type": "code",
      "source": [
        "f=open('chatbot_wiki.txt','r',errors = 'ignore')\n",
        "raw=f.read()\n",
        "raw=raw.lower()"
      ],
      "metadata": {
        "id": "Cy14P229stYZ"
      },
      "execution_count": 13,
      "outputs": []
    },
    {
      "cell_type": "code",
      "source": [
        "nltk.download('punkt') \n",
        "nltk.download('wordnet')"
      ],
      "metadata": {
        "colab": {
          "base_uri": "https://localhost:8080/"
        },
        "id": "mpLzgNZpxF9b",
        "outputId": "43e5b1ea-d8a3-4f0a-a363-403b1a3e220d"
      },
      "execution_count": 14,
      "outputs": [
        {
          "output_type": "stream",
          "name": "stdout",
          "text": [
            "[nltk_data] Downloading package punkt to /root/nltk_data...\n",
            "[nltk_data]   Package punkt is already up-to-date!\n",
            "[nltk_data] Downloading package wordnet to /root/nltk_data...\n",
            "[nltk_data]   Package wordnet is already up-to-date!\n"
          ]
        },
        {
          "output_type": "execute_result",
          "data": {
            "text/plain": [
              "True"
            ]
          },
          "metadata": {},
          "execution_count": 14
        }
      ]
    },
    {
      "cell_type": "code",
      "source": [
        "sent_tokens = nltk.sent_tokenize(raw)\n",
        "word_tokens = nltk.word_tokenize(raw)"
      ],
      "metadata": {
        "id": "RvBOpPZis8eh"
      },
      "execution_count": 15,
      "outputs": []
    },
    {
      "cell_type": "code",
      "source": [
        "sent_tokens[0]"
      ],
      "metadata": {
        "colab": {
          "base_uri": "https://localhost:8080/",
          "height": 53
        },
        "id": "My0TBs7LtE_p",
        "outputId": "22edf8fb-42eb-45ff-cd68-899d33c0c4aa"
      },
      "execution_count": 16,
      "outputs": [
        {
          "output_type": "execute_result",
          "data": {
            "text/plain": [
              "'a chatbot or chatterbot is a software application used to conduct an on-line chat conversation via text or text-to-speech, in lieu of providing direct contact with a live human agent.'"
            ],
            "application/vnd.google.colaboratory.intrinsic+json": {
              "type": "string"
            }
          },
          "metadata": {},
          "execution_count": 16
        }
      ]
    },
    {
      "cell_type": "code",
      "source": [
        "word_tokens[:5]"
      ],
      "metadata": {
        "colab": {
          "base_uri": "https://localhost:8080/"
        },
        "id": "gLUTZongtIQS",
        "outputId": "72e5b3cd-082d-44c8-ee21-60445fb8ff0f"
      },
      "execution_count": 17,
      "outputs": [
        {
          "output_type": "execute_result",
          "data": {
            "text/plain": [
              "['a', 'chatbot', 'or', 'chatterbot', 'is']"
            ]
          },
          "metadata": {},
          "execution_count": 17
        }
      ]
    },
    {
      "cell_type": "code",
      "source": [
        "lemmer = nltk.stem.WordNetLemmatizer()\n",
        "\n",
        "def LemTokens(tokens):\n",
        "   return [lemmer.lemmatize(token) for token in tokens]\n",
        "remove_punct_dict = dict((ord(punct), None) for punct in string.punctuation)\n",
        "def LemNormalize(text):\n",
        "   return LemTokens(nltk.word_tokenize(text.lower().translate(remove_punct_dict)))"
      ],
      "metadata": {
        "id": "WzSNWQJvtOC-"
      },
      "execution_count": 18,
      "outputs": []
    },
    {
      "cell_type": "code",
      "source": [
        "GREETING_INPUTS = (\"hello\", \"hi\", \"greetings\", \"hey\",)\n",
        "GREETING_RESPONSES = [\"hi\", \"hey\", \"hi there\", \"greetings\", \"hello\"]\n",
        "def greeting(sentence):\n",
        "   for word in sentence.split():\n",
        "       if word.lower() in GREETING_INPUTS:\n",
        "           return random.choice(GREETING_RESPONSES)"
      ],
      "metadata": {
        "id": "-_XEQtcgtUGv"
      },
      "execution_count": 19,
      "outputs": []
    },
    {
      "cell_type": "code",
      "source": [
        "from sklearn.feature_extraction.text import TfidfVectorizer\n",
        "from sklearn.metrics.pairwise import cosine_similarity\n",
        "def response(user_response):\n",
        "   robo_response=''\n",
        "   sent_tokens.append(user_response)\n",
        "   TfidfVec = TfidfVectorizer(tokenizer=LemNormalize, stop_words='english')\n",
        "   tfidf = TfidfVec.fit_transform(sent_tokens)\n",
        "   vals = cosine_similarity(tfidf[-1], tfidf)\n",
        "   idx=vals.argsort()[0][-2]\n",
        "   flat = vals.flatten()\n",
        "   flat.sort()\n",
        "   req_tfidf = flat[-2]\n",
        "   if(req_tfidf==0):\n",
        "       robo_response=robo_response+\"I am sorry! I don't understand you\"\n",
        "       return robo_response\n",
        "   else:\n",
        "       robo_response = robo_response+sent_tokens[idx]\n",
        "       return robo_response\n",
        "\n",
        "flag=True\n",
        "print(\"CHATBOT: Hey, I am a chatbot and I will answer your queries about Chatbots. If you want to exit, type Bye!\")\n",
        "\n",
        "while(flag==True):\n",
        "   user_response = input()\n",
        "   user_response=user_response.lower()\n",
        "   if(user_response!='bye'):\n",
        "       if(user_response=='thanks' or user_response=='thank you' ):\n",
        "           flag=False\n",
        "           print(\"CHATBOT: You are welcome...\")\n",
        "       else:\n",
        "           if(greeting(user_response)!=None):\n",
        "               print(\"CHATBOT: \"+greeting(user_response))\n",
        "           else:\n",
        "               print(\"CHATBOT: \",end=\"\")\n",
        "               print(response(user_response))\n",
        "               sent_tokens.remove(user_response)\n",
        "   else:\n",
        "       flag=False\n",
        "       print(\"CHATBOT: Bye, Thank You!\")   "
      ],
      "metadata": {
        "colab": {
          "base_uri": "https://localhost:8080/"
        },
        "id": "rPSjcX_pt8Oo",
        "outputId": "2a372bb4-f156-47f6-c38d-78f339600b44"
      },
      "execution_count": 20,
      "outputs": [
        {
          "output_type": "stream",
          "name": "stdout",
          "text": [
            "CHATBOT: Hey, I am a chatbot and I will answer your queries about Chatbots. If you want to exit, type Bye!\n",
            "hey\n",
            "CHATBOT: greetings\n",
            "hai bot\n",
            "CHATBOT: they may also help companies implement bots in their operations.\n",
            "bye\n",
            "CHATBOT: Bye, Thank You!\n"
          ]
        }
      ]
    }
  ]
}